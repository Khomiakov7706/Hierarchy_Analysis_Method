{
  "cells": [
    {
      "cell_type": "markdown",
      "metadata": {
        "id": "view-in-github",
        "colab_type": "text"
      },
      "source": [
        "<a href=\"https://colab.research.google.com/github/Khomiakov7706/Hierarchy_Analysis_Method/blob/develop/Requirement_analysis.ipynb\" target=\"_parent\"><img src=\"https://colab.research.google.com/assets/colab-badge.svg\" alt=\"Open In Colab\"/></a>"
      ]
    },
    {
      "cell_type": "markdown",
      "id": "3be1c0f7",
      "metadata": {
        "id": "3be1c0f7"
      },
      "source": [
        "# Классификация формулировок требований"
      ]
    },
    {
      "cell_type": "code",
      "execution_count": null,
      "id": "0da7ec38",
      "metadata": {
        "id": "0da7ec38"
      },
      "outputs": [],
      "source": [
        "import os\n",
        "import sys\n",
        "import pandas as pd\n",
        "import numpy as np\n",
        "import datetime\n",
        "from matplotlib import pyplot as plt\n",
        "import seaborn as sns\n",
        "from IPython.display import display, Markdown\n",
        "\n",
        "plt.rcParams.update({'figure.max_open_warning': 0})\n",
        "pd.set_option('display.max_colwidth',1000)\n",
        "pd.set_option('display.max_columns', 500)"
      ]
    },
    {
      "cell_type": "code",
      "execution_count": null,
      "id": "3af6906a",
      "metadata": {
        "id": "3af6906a"
      },
      "outputs": [],
      "source": [
        "data = pd.read_csv('train_test_withcols1.csv')"
      ]
    },
    {
      "cell_type": "code",
      "execution_count": null,
      "id": "2552afa7",
      "metadata": {
        "id": "2552afa7"
      },
      "outputs": [],
      "source": [
        "data = data.drop('req_type', 1)\n",
        "data = data.drop('test_scenario', 1)\n",
        "data = data.rename(columns={'requirement': 'requirement_text'})"
      ]
    },
    {
      "cell_type": "code",
      "execution_count": null,
      "id": "10cc80dd",
      "metadata": {
        "id": "10cc80dd"
      },
      "outputs": [],
      "source": [
        "requirement_classes = list(data.columns[2:].values)"
      ]
    },
    {
      "cell_type": "code",
      "execution_count": null,
      "id": "bedccd01",
      "metadata": {
        "id": "bedccd01"
      },
      "outputs": [],
      "source": [
        "all_words = data['requirement_text'].str.split(expand=True).unstack().value_counts()"
      ]
    },
    {
      "cell_type": "markdown",
      "id": "0ff0abf6",
      "metadata": {
        "id": "0ff0abf6"
      },
      "source": [
        "# Лемматизация"
      ]
    },
    {
      "cell_type": "code",
      "execution_count": null,
      "id": "2e669277",
      "metadata": {
        "id": "2e669277",
        "outputId": "2c5c0b7b-5266-4c8d-8655-ee03b5b697ea"
      },
      "outputs": [
        {
          "name": "stderr",
          "output_type": "stream",
          "text": [
            "[nltk_data] Downloading package wordnet to\n",
            "[nltk_data]     /Users/ivankhomiakov/nltk_data...\n",
            "[nltk_data]   Package wordnet is already up-to-date!\n"
          ]
        }
      ],
      "source": [
        "import nltk\n",
        "from nltk.stem import WordNetLemmatizer\n",
        "nltk.download('wordnet')\n",
        "\n",
        "lemmatizer = WordNetLemmatizer()"
      ]
    },
    {
      "cell_type": "code",
      "execution_count": null,
      "id": "bcde1a6b",
      "metadata": {
        "id": "bcde1a6b"
      },
      "outputs": [],
      "source": [
        "def lemmatization(text):\n",
        "    '''a function for lemmatization'''\n",
        "    text = [lemmatizer.lemmatize(word.lower()) for word in text.split()]\n",
        "    # joining the list of words with space separator\n",
        "    return \" \".join(text)"
      ]
    },
    {
      "cell_type": "code",
      "execution_count": null,
      "id": "22b2a0b2",
      "metadata": {
        "id": "22b2a0b2"
      },
      "outputs": [],
      "source": [
        "data['lemmatized_requirement'] = data['requirement_text'].apply(lemmatization)"
      ]
    },
    {
      "cell_type": "markdown",
      "id": "a1a7bd3c",
      "metadata": {
        "id": "a1a7bd3c"
      },
      "source": [
        "Убираем стоп-слова"
      ]
    },
    {
      "cell_type": "code",
      "execution_count": null,
      "id": "63715691",
      "metadata": {
        "id": "63715691",
        "outputId": "bbfbe241-9aa3-4d6b-e9d6-68df01e67f06"
      },
      "outputs": [
        {
          "name": "stderr",
          "output_type": "stream",
          "text": [
            "[nltk_data] Downloading package stopwords to\n",
            "[nltk_data]     /Users/ivankhomiakov/nltk_data...\n",
            "[nltk_data]   Package stopwords is already up-to-date!\n"
          ]
        }
      ],
      "source": [
        "from nltk.corpus import stopwords\n",
        "import nltk\n",
        "nltk.download('stopwords')\n",
        "sw = stopwords.words('english')"
      ]
    },
    {
      "cell_type": "code",
      "execution_count": null,
      "id": "4303ceb0",
      "metadata": {
        "id": "4303ceb0"
      },
      "outputs": [],
      "source": [
        "def stopwords(text):\n",
        "    '''a function for removing the stopword'''\n",
        "    # removing the stop words \n",
        "    text = [word for word in text.split() if word not in sw]\n",
        "    # joining the list of words with space separator\n",
        "    return \" \".join(text)"
      ]
    },
    {
      "cell_type": "code",
      "execution_count": null,
      "id": "d38ba917",
      "metadata": {
        "id": "d38ba917"
      },
      "outputs": [],
      "source": [
        "data['lemmatized_requirement'] = data['lemmatized_requirement'].apply(stopwords)"
      ]
    },
    {
      "cell_type": "code",
      "execution_count": null,
      "id": "58b9cb31",
      "metadata": {
        "id": "58b9cb31"
      },
      "outputs": [],
      "source": [
        "import re\n",
        "regex = re.compile('[^a-zA-Z а-яА-Я]')"
      ]
    },
    {
      "cell_type": "code",
      "execution_count": null,
      "id": "7ddfef32",
      "metadata": {
        "id": "7ddfef32"
      },
      "outputs": [],
      "source": [
        "data.lemmatized_requirement = data.lemmatized_requirement.apply(lambda x: regex.sub('',x))"
      ]
    },
    {
      "cell_type": "markdown",
      "id": "ab6176b0",
      "metadata": {
        "id": "ab6176b0"
      },
      "source": [
        "# Выявление признаков из датасета"
      ]
    },
    {
      "cell_type": "markdown",
      "id": "4d0bf1e5",
      "metadata": {
        "id": "4d0bf1e5"
      },
      "source": [
        "## Синтетические признаки"
      ]
    },
    {
      "cell_type": "markdown",
      "id": "34944766",
      "metadata": {
        "id": "34944766"
      },
      "source": [
        "составляем набор признаков на основе текста Dataframe"
      ]
    },
    {
      "cell_type": "markdown",
      "id": "23cabd01",
      "metadata": {
        "id": "23cabd01"
      },
      "source": [
        "Количество слов в тексте требования "
      ]
    },
    {
      "cell_type": "code",
      "execution_count": null,
      "id": "0cbae11b",
      "metadata": {
        "id": "0cbae11b"
      },
      "outputs": [],
      "source": [
        "data['words_in_requirement'] = (\n",
        "    data['requirement_text'].str.split().apply(len))"
      ]
    },
    {
      "cell_type": "markdown",
      "id": "2b5e17ad",
      "metadata": {
        "id": "2b5e17ad"
      },
      "source": [
        "Кол-во слов в тексте лемматизированного требования"
      ]
    },
    {
      "cell_type": "code",
      "execution_count": null,
      "id": "b41a579c",
      "metadata": {
        "id": "b41a579c"
      },
      "outputs": [],
      "source": [
        "data['words_in_lemmatized_req'] = (\n",
        "    data['lemmatized_requirement'].str.split().apply(len))"
      ]
    },
    {
      "cell_type": "markdown",
      "id": "6ccdd3d2",
      "metadata": {
        "id": "6ccdd3d2"
      },
      "source": [
        "Кол-во исключенных слов при лемматизации"
      ]
    },
    {
      "cell_type": "code",
      "execution_count": null,
      "id": "ccf692c3",
      "metadata": {
        "id": "ccf692c3"
      },
      "outputs": [],
      "source": [
        "data['words_diffence'] = (\n",
        "    data['words_in_requirement']-data['words_in_lemmatized_req'])"
      ]
    },
    {
      "cell_type": "code",
      "execution_count": null,
      "id": "58b11bcb",
      "metadata": {
        "id": "58b11bcb"
      },
      "outputs": [],
      "source": [
        "additional_parameters = data.columns[-3:]"
      ]
    },
    {
      "cell_type": "markdown",
      "id": "ceb8d787",
      "metadata": {
        "id": "ceb8d787"
      },
      "source": [
        "## Слова-признаки"
      ]
    },
    {
      "cell_type": "markdown",
      "id": "351bab4f",
      "metadata": {
        "id": "351bab4f"
      },
      "source": [
        "Выписываем наиболее используемые слова как признаки"
      ]
    },
    {
      "cell_type": "code",
      "execution_count": null,
      "id": "0c07c54a",
      "metadata": {
        "id": "0c07c54a"
      },
      "outputs": [],
      "source": [
        "for word in bag_of_word:\n",
        "    data[word]=data['lemmatized_requirement'].apply(lambda x: x.count(str (' ' + word + ' ')))"
      ]
    },
    {
      "cell_type": "markdown",
      "id": "671a88bb",
      "metadata": {
        "id": "671a88bb"
      },
      "source": [
        "Составляем словарь слов для разных классов с указанием количества используемых слов"
      ]
    },
    {
      "cell_type": "code",
      "execution_count": null,
      "id": "fc5d4e63",
      "metadata": {
        "id": "fc5d4e63"
      },
      "outputs": [],
      "source": [
        "class_dict = dict()\n",
        "for c in range(len(requirement_classes)):\n",
        "    class_dict[requirement_classes[c]] = data[data[requirement_classes[c]]==1]['lemmatized_requirement'].str.split(expand=True).unstack().value_counts().head(15)"
      ]
    },
    {
      "cell_type": "markdown",
      "id": "7440662a",
      "metadata": {
        "id": "7440662a"
      },
      "source": [
        "Составляем мешок уникальных слов для каждого класса"
      ]
    },
    {
      "cell_type": "code",
      "execution_count": null,
      "id": "ecee6530",
      "metadata": {
        "id": "ecee6530"
      },
      "outputs": [],
      "source": [
        "bag_of_word = []\n",
        "for i in requirement_classes:\n",
        "    for j in class_dict[i].index:\n",
        "        if not (j in bag_of_word):\n",
        "            bag_of_word.append(j)"
      ]
    },
    {
      "cell_type": "markdown",
      "id": "e98fa432",
      "metadata": {
        "id": "e98fa432"
      },
      "source": [
        "Создаем разметку данных"
      ]
    },
    {
      "cell_type": "code",
      "execution_count": null,
      "id": "0ec22795",
      "metadata": {
        "id": "0ec22795"
      },
      "outputs": [],
      "source": [
        "target = requirement_classes\n",
        "features = bag_of_word\n",
        "for i in additional_parameters:\n",
        "    features.append(i)"
      ]
    },
    {
      "cell_type": "markdown",
      "id": "48136d97",
      "metadata": {
        "id": "48136d97"
      },
      "source": [
        "# Разбиение на тестовую и валидационную выборки для каждого класса требований"
      ]
    },
    {
      "cell_type": "markdown",
      "id": "2ebf67f2",
      "metadata": {
        "id": "2ebf67f2"
      },
      "source": [
        "Всего 26 классов"
      ]
    },
    {
      "cell_type": "code",
      "execution_count": null,
      "id": "7b15bada",
      "metadata": {
        "id": "7b15bada"
      },
      "outputs": [],
      "source": [
        "from sklearn.model_selection import train_test_split"
      ]
    },
    {
      "cell_type": "code",
      "execution_count": null,
      "id": "bb938106",
      "metadata": {
        "id": "bb938106"
      },
      "outputs": [],
      "source": [
        "def split_train_test (dataframe_, target_, features_):\n",
        "        \n",
        "        X_train, X_test, y_train, y_test = train_test_split(dataframe_[features_],dataframe_[target_],test_size=0.2, random_state=77, stratify=dataframe_[target_])\n",
        "        \n",
        "        return X_train, X_test, y_train, y_test"
      ]
    },
    {
      "cell_type": "code",
      "execution_count": null,
      "id": "7385d670",
      "metadata": {
        "id": "7385d670"
      },
      "outputs": [],
      "source": []
    },
    {
      "cell_type": "code",
      "execution_count": null,
      "id": "be0ca120",
      "metadata": {
        "id": "be0ca120",
        "outputId": "c5b103f1-d04e-49a0-c69e-58f982ba251e"
      },
      "outputs": [
        {
          "data": {
            "text/plain": [
              "Index(['user', 'contact', 'account', 'information', 'field', 'number', 'shall',\n",
              "       'include', 'profile', 'email', 'id', 'password', 'website', 'phone',\n",
              "       'address'],\n",
              "      dtype='object')"
            ]
          },
          "execution_count": 67,
          "metadata": {},
          "output_type": "execute_result"
        }
      ],
      "source": [
        "class_dict['Verification of Account Details and Settings'].index"
      ]
    },
    {
      "cell_type": "code",
      "execution_count": null,
      "id": "be896925",
      "metadata": {
        "id": "be896925"
      },
      "outputs": [],
      "source": [
        "X_class_train = dict()\n",
        "X_class_test = dict()\n",
        "y_class_train = dict()\n",
        "y_class_test = dict()\n",
        "\n",
        "for cl in requirement_classes:\n",
        "    X_class_train[cl],X_class_test[cl],y_class_train[cl],y_class_test[cl]=split_train_test(data, cl, class_dict[cl].index)"
      ]
    },
    {
      "cell_type": "markdown",
      "id": "6f991ee0",
      "metadata": {
        "id": "6f991ee0"
      },
      "source": [
        "# Нормализация"
      ]
    },
    {
      "cell_type": "code",
      "execution_count": null,
      "id": "db3de3bb",
      "metadata": {
        "id": "db3de3bb"
      },
      "outputs": [],
      "source": [
        "from sklearn.preprocessing import MinMaxScaler\n"
      ]
    },
    {
      "cell_type": "markdown",
      "id": "0de36557",
      "metadata": {
        "id": "0de36557"
      },
      "source": [
        "Нормализация обучающей выборки"
      ]
    },
    {
      "cell_type": "code",
      "execution_count": null,
      "id": "1438267b",
      "metadata": {
        "id": "1438267b"
      },
      "outputs": [],
      "source": [
        "scaler = dict()\n",
        "scaler_params = dict()\n",
        "for cl in requirement_classes:\n",
        "    scaler[cl] = MinMaxScaler()\n",
        "    X_class_train[cl] = scaler[cl].fit_transform(X_class_train[cl])"
      ]
    },
    {
      "cell_type": "markdown",
      "id": "8bfebb4d",
      "metadata": {
        "id": "8bfebb4d"
      },
      "source": [
        "Нормализация тестовой выборки на сонове парамтеров обучающей"
      ]
    },
    {
      "cell_type": "code",
      "execution_count": null,
      "id": "3800a77d",
      "metadata": {
        "id": "3800a77d"
      },
      "outputs": [],
      "source": [
        "scaler_ = MinMaxScaler()\n",
        "for cl in requirement_classes:\n",
        "#    scaler[cl].get_params()\n",
        "    X_class_test[cl]=scaler[cl].transform(X_class_test[cl])"
      ]
    },
    {
      "cell_type": "markdown",
      "id": "628cc6e1",
      "metadata": {
        "id": "628cc6e1"
      },
      "source": [
        "# Обучение модели"
      ]
    },
    {
      "cell_type": "markdown",
      "id": "b860011a",
      "metadata": {
        "id": "b860011a"
      },
      "source": [
        "Так как классификация будет проводиться по каждому из классов независимо, разбиение на тестовую и обучающую выборки будет проводиться для каждого из классов отдельно"
      ]
    },
    {
      "cell_type": "code",
      "execution_count": null,
      "id": "1ce7acfb",
      "metadata": {
        "id": "1ce7acfb"
      },
      "outputs": [],
      "source": [
        "import warnings\n",
        "warnings.filterwarnings('ignore')\n",
        "\n",
        "from sklearn.linear_model import LogisticRegression\n",
        "model_class_lr = dict()\n",
        "model_lr_ = LogisticRegression() # Используем модель с параметрами по умолчанию\n",
        "\n",
        "for cl in range(len(requirement_classes)):\n",
        "    model_lr_.fit(X_class_train[requirement_classes[cl]], y_class_train[requirement_classes[cl]])\n",
        "    model_class_lr[requirement_classes[cl]] = model_lr_"
      ]
    },
    {
      "cell_type": "markdown",
      "id": "55f0ee0e",
      "metadata": {
        "id": "55f0ee0e"
      },
      "source": [
        "Наивный Байес"
      ]
    },
    {
      "cell_type": "code",
      "execution_count": null,
      "id": "0f510739",
      "metadata": {
        "id": "0f510739"
      },
      "outputs": [],
      "source": [
        "from sklearn.naive_bayes import GaussianNB\n",
        "model_nb_ = GaussianNB() # Используем модель с параметрами по умолчанию\n",
        "\n",
        "model_class_nb = dict()\n",
        "for cl in range(len(requirement_classes)):\n",
        "    model_nb_.fit(X_class_train[requirement_classes[cl]], y_class_train[requirement_classes[cl]])\n",
        "    model_class_nb[requirement_classes[cl]] = model_nb_"
      ]
    },
    {
      "cell_type": "markdown",
      "id": "bbaa487a",
      "metadata": {
        "id": "bbaa487a"
      },
      "source": [
        "k-ближайших соседей"
      ]
    },
    {
      "cell_type": "code",
      "execution_count": null,
      "id": "d3077ed1",
      "metadata": {
        "id": "d3077ed1"
      },
      "outputs": [],
      "source": [
        "from sklearn.neighbors import KNeighborsClassifier\n",
        "model_knn_ = KNeighborsClassifier() # Используем модель с параметрами по умолчанию\n",
        "\n",
        "model_class_knn = dict()\n",
        "for cl in range(len(requirement_classes)):\n",
        "    model_knn_.fit(X_class_train[requirement_classes[cl]], y_class_train[requirement_classes[cl]])\n",
        "    model_class_knn[requirement_classes[cl]] = model_knn_"
      ]
    },
    {
      "cell_type": "markdown",
      "id": "88512971",
      "metadata": {
        "id": "88512971"
      },
      "source": [
        "Метод решающих деревьев"
      ]
    },
    {
      "cell_type": "code",
      "execution_count": null,
      "id": "d253ec8a",
      "metadata": {
        "id": "d253ec8a"
      },
      "outputs": [],
      "source": [
        "from sklearn.tree import DecisionTreeClassifier\n",
        "model_dtc_ = DecisionTreeClassifier() # Используем модель с параметрами по умолчанию\n",
        "\n",
        "model_class_dtc = dict()\n",
        "for cl in range(len(requirement_classes)):\n",
        "    model_dtc_.fit(X_class_train[requirement_classes[cl]], y_class_train[requirement_classes[cl]])\n",
        "    model_class_dtc[requirement_classes[cl]] = model_dtc_"
      ]
    },
    {
      "cell_type": "markdown",
      "id": "2397622b",
      "metadata": {
        "id": "2397622b"
      },
      "source": [
        "Метод поддерживающих векторов"
      ]
    },
    {
      "cell_type": "code",
      "execution_count": null,
      "id": "ffbdf11d",
      "metadata": {
        "id": "ffbdf11d"
      },
      "outputs": [],
      "source": [
        "from sklearn.svm import SVC\n",
        "model_svc_ = SVC() # Используем модель с параметрами по умолчанию\n",
        "\n",
        "model_class_svc = dict()\n",
        "for cl in range(len(requirement_classes)):\n",
        "    model_svc_.fit(X_class_train[requirement_classes[cl]], y_class_train[requirement_classes[cl]])\n",
        "    model_class_svc[requirement_classes[cl]] = model_svc_"
      ]
    },
    {
      "cell_type": "markdown",
      "id": "f1040535",
      "metadata": {
        "id": "f1040535"
      },
      "source": [
        "Случайный лес"
      ]
    },
    {
      "cell_type": "code",
      "execution_count": null,
      "id": "f56d1ac2",
      "metadata": {
        "id": "f56d1ac2"
      },
      "outputs": [],
      "source": [
        "from sklearn.ensemble import RandomForestClassifier\n",
        "model_rf_ = RandomForestClassifier() # Используем модель с параметрами по умолчанию\n",
        "\n",
        "model_class_rf = dict()\n",
        "for cl in range(len(requirement_classes)):\n",
        "    model_rf_.fit(X_class_train[requirement_classes[cl]], y_class_train[requirement_classes[cl]])\n",
        "    model_class_rf[requirement_classes[cl]] = model_rf_"
      ]
    },
    {
      "cell_type": "markdown",
      "id": "e68d01ad",
      "metadata": {
        "id": "e68d01ad"
      },
      "source": [
        "## Посмотрим метрики для каждого класса и метода"
      ]
    },
    {
      "cell_type": "code",
      "execution_count": null,
      "id": "eb11eedd",
      "metadata": {
        "id": "eb11eedd"
      },
      "outputs": [],
      "source": [
        "from sklearn.metrics import accuracy_score"
      ]
    },
    {
      "cell_type": "code",
      "execution_count": null,
      "id": "ed68a200",
      "metadata": {
        "id": "ed68a200"
      },
      "outputs": [],
      "source": [
        "lr_accuracy_test = dict()\n",
        "lr_accuracy_train = dict()\n",
        "for cl in requirement_classes:\n",
        "    lr_accuracy_train[cl] = accuracy_score(y_class_train[cl], model_class_lr[cl].predict(X_class_train[cl]))\n",
        "    lr_accuracy_test[cl] = accuracy_score(y_class_test[cl], model_class_lr[cl].predict(X_class_test[cl]))\n",
        "    "
      ]
    },
    {
      "cell_type": "code",
      "execution_count": null,
      "id": "6d925cc8",
      "metadata": {
        "id": "6d925cc8"
      },
      "outputs": [],
      "source": [
        "nb_accuracy_test = dict()\n",
        "nb_accuracy_train = dict()\n",
        "for cl in requirement_classes:\n",
        "    nb_accuracy_train[cl] = accuracy_score(y_class_train[cl], model_class_nb[cl].predict(X_class_train[cl]))\n",
        "    nb_accuracy_test[cl] = accuracy_score(y_class_test[cl], model_class_nb[cl].predict(X_class_test[cl]))\n",
        "    "
      ]
    },
    {
      "cell_type": "code",
      "execution_count": null,
      "id": "b7d47c9b",
      "metadata": {
        "id": "b7d47c9b"
      },
      "outputs": [],
      "source": [
        "knn_accuracy_test = dict()\n",
        "knn_accuracy_train = dict()\n",
        "for cl in requirement_classes:\n",
        "    knn_accuracy_train[cl] = accuracy_score(y_class_train[cl], model_class_knn[cl].predict(X_class_train[cl]))\n",
        "    knn_accuracy_test[cl] = accuracy_score(y_class_test[cl], model_class_knn[cl].predict(X_class_test[cl]))\n",
        "    "
      ]
    },
    {
      "cell_type": "code",
      "execution_count": null,
      "id": "7db2604f",
      "metadata": {
        "id": "7db2604f"
      },
      "outputs": [],
      "source": [
        "dtc_accuracy_test = dict()\n",
        "dtc_accuracy_train = dict()\n",
        "for cl in requirement_classes:\n",
        "    dtc_accuracy_train[cl] = accuracy_score(y_class_train[cl], model_class_dtc[cl].predict(X_class_train[cl]))\n",
        "    dtc_accuracy_test[cl] = accuracy_score(y_class_test[cl], model_class_dtc[cl].predict(X_class_test[cl]))\n",
        "    "
      ]
    },
    {
      "cell_type": "code",
      "execution_count": null,
      "id": "22147c89",
      "metadata": {
        "id": "22147c89"
      },
      "outputs": [],
      "source": [
        "svc_accuracy_test = dict()\n",
        "svc_accuracy_train = dict()\n",
        "for cl in requirement_classes:\n",
        "    svc_accuracy_train[cl] = accuracy_score(y_class_train[cl], model_class_svc[cl].predict(X_class_train[cl]))\n",
        "    svc_accuracy_test[cl] = accuracy_score(y_class_test[cl], model_class_svc[cl].predict(X_class_test[cl]))\n",
        "    "
      ]
    },
    {
      "cell_type": "code",
      "execution_count": null,
      "id": "c9400a01",
      "metadata": {
        "id": "c9400a01"
      },
      "outputs": [],
      "source": [
        "rf_accuracy_test = dict()\n",
        "rf_accuracy_train = dict()\n",
        "for cl in requirement_classes:\n",
        "    rf_accuracy_train[cl] = accuracy_score(y_class_train[cl], model_class_rf[cl].predict(X_class_train[cl]))\n",
        "    rf_accuracy_test[cl] = accuracy_score(y_class_test[cl], model_class_rf[cl].predict(X_class_test[cl]))\n",
        "    "
      ]
    },
    {
      "cell_type": "markdown",
      "id": "9e07980b",
      "metadata": {
        "id": "9e07980b"
      },
      "source": [
        "## Расчет среднего значения DS-метрики"
      ]
    },
    {
      "cell_type": "code",
      "execution_count": null,
      "id": "b3b23ca6",
      "metadata": {
        "id": "b3b23ca6"
      },
      "outputs": [],
      "source": [
        "classifiers = list({'lr', 'nb', 'knn', 'dtc', 'svc', 'rf'})\n",
        "mean_train_accuracy = dict()\n",
        "mean_test_accuracy = dict()\n",
        "\n",
        "for i in classifiers:\n",
        "    mean_train_accuracy[i] = 0.0\n",
        "    mean_test_accuracy[i] = 0.0\n"
      ]
    },
    {
      "cell_type": "code",
      "execution_count": null,
      "id": "4214e92f",
      "metadata": {
        "id": "4214e92f",
        "outputId": "be261ced-575c-47e6-ab69-a233ea913411"
      },
      "outputs": [
        {
          "name": "stdout",
          "output_type": "stream",
          "text": [
            "Логистическая регрессия\n",
            "mean train accuracy:  0.939713613724405\n",
            "mean test accuracy:  0.93912562257886\n"
          ]
        }
      ],
      "source": [
        "print('Логистическая регрессия')\n",
        "\n",
        "for cl in requirement_classes:\n",
        "    '''\n",
        "    print(cl)\n",
        "    print ('Точность на обучающей выборке: ',lr_accuracy_train[cl])\n",
        "    print('Точность на тестовой выборке: ', lr_accuracy_test[cl], end='\\n\\n')\n",
        "    '''\n",
        "    mean_train_accuracy[classifiers[0]] += lr_accuracy_train[cl]\n",
        "    mean_test_accuracy[classifiers[0]] += lr_accuracy_test[cl]\n",
        "mean_train_accuracy['lr'] = mean_train_accuracy['lr']/len(requirement_classes)\n",
        "mean_test_accuracy['lr'] = mean_test_accuracy['lr']/len(requirement_classes)\n",
        "\n",
        "print ('mean train accuracy: ', mean_train_accuracy['lr'])\n",
        "print ('mean test accuracy: ', mean_test_accuracy['lr'])"
      ]
    },
    {
      "cell_type": "code",
      "execution_count": null,
      "id": "c76d6ae5",
      "metadata": {
        "id": "c76d6ae5",
        "outputId": "dfabbf35-d24c-468a-b77e-98e697d81bc2"
      },
      "outputs": [
        {
          "name": "stdout",
          "output_type": "stream",
          "text": [
            "Наивный Байес\n",
            "mean train accuracy:  0.8432484781405643\n",
            "mean test accuracy:  0.8436635307138906\n"
          ]
        }
      ],
      "source": [
        "print('Наивный Байес')\n",
        "\n",
        "for cl in requirement_classes:\n",
        "    '''\n",
        "    print(cl)\n",
        "    print ('Точность на обучающей выборке: ',nb_accuracy_train[cl])\n",
        "    print('Точность на тестовой выборке: ', nb_accuracy_test[cl], end='\\n\\n')\n",
        "    '''\n",
        "    mean_train_accuracy['nb'] += nb_accuracy_train[cl]\n",
        "    mean_test_accuracy['nb'] += nb_accuracy_test[cl]\n",
        "mean_train_accuracy['nb'] = mean_train_accuracy['nb']/len(requirement_classes)\n",
        "mean_test_accuracy['nb'] = mean_test_accuracy['nb']/len(requirement_classes)\n",
        "\n",
        "print ('mean train accuracy: ', mean_train_accuracy['nb'])\n",
        "print ('mean test accuracy: ', mean_test_accuracy['nb'])"
      ]
    },
    {
      "cell_type": "code",
      "execution_count": null,
      "id": "074fbea3",
      "metadata": {
        "id": "074fbea3",
        "outputId": "d188046a-1c62-436a-ddac-8c9554be75e6"
      },
      "outputs": [
        {
          "name": "stdout",
          "output_type": "stream",
          "text": [
            "k-ближайших соседей\n",
            "mean train accuracy:  0.914602933038185\n",
            "mean test accuracy:  0.9150525733259547\n"
          ]
        }
      ],
      "source": [
        "print('k-ближайших соседей')\n",
        "\n",
        "for cl in requirement_classes:\n",
        "    '''\n",
        "    print(cl)\n",
        "    print ('Точность на обучающей выборке: ',knn_accuracy_train[cl])\n",
        "    print('Точность на тестовой выборке: ', knn_accuracy_test[cl], end='\\n\\n')\n",
        "    '''\n",
        "    mean_train_accuracy['knn'] += knn_accuracy_train[cl]\n",
        "    mean_test_accuracy['knn'] += knn_accuracy_test[cl]\n",
        "mean_train_accuracy['knn'] = mean_train_accuracy['knn']/len(requirement_classes)\n",
        "mean_test_accuracy['knn'] = mean_test_accuracy['knn']/len(requirement_classes)\n",
        "\n",
        "print ('mean train accuracy: ', mean_train_accuracy['knn'])\n",
        "print ('mean test accuracy: ', mean_test_accuracy['knn'])"
      ]
    },
    {
      "cell_type": "code",
      "execution_count": null,
      "id": "9e583b65",
      "metadata": {
        "id": "9e583b65",
        "outputId": "af393f75-8beb-464d-81d1-c6c4ac4a0779"
      },
      "outputs": [
        {
          "name": "stdout",
          "output_type": "stream",
          "text": [
            "Метод решающих деревьев\n",
            "mean train accuracy:  0.8889388489208634\n",
            "mean test accuracy:  0.8911178749308247\n"
          ]
        }
      ],
      "source": [
        "print('Метод решающих деревьев')\n",
        "\n",
        "for cl in requirement_classes:\n",
        "    '''\n",
        "    print(cl)\n",
        "    print ('Точность на обучающей выборке: ',dtc_accuracy_train[cl])\n",
        "    print('Точность на тестовой выборке: ', dtc_accuracy_test[cl], end='\\n\\n')\n",
        "    '''\n",
        "    mean_train_accuracy['dtc'] += dtc_accuracy_train[cl]\n",
        "    mean_test_accuracy['dtc'] += dtc_accuracy_test[cl]\n",
        "mean_train_accuracy['dtc'] = mean_train_accuracy['dtc']/len(requirement_classes)\n",
        "mean_test_accuracy['dtc'] = mean_test_accuracy['dtc']/len(requirement_classes)\n",
        "\n",
        "print ('mean train accuracy: ', mean_train_accuracy['dtc'])\n",
        "print ('mean test accuracy: ', mean_test_accuracy['dtc'])"
      ]
    },
    {
      "cell_type": "code",
      "execution_count": null,
      "id": "8c1f22d7",
      "metadata": {
        "id": "8c1f22d7",
        "outputId": "a85922d9-c7f8-4530-f280-dc4b5c597706"
      },
      "outputs": [
        {
          "name": "stdout",
          "output_type": "stream",
          "text": [
            "Метод опорных векторов\n",
            "mean train accuracy:  0.926777808522413\n",
            "mean test accuracy:  0.9269507470946322\n"
          ]
        }
      ],
      "source": [
        "print('Метод опорных векторов')\n",
        "\n",
        "for cl in requirement_classes:\n",
        "    '''\n",
        "    print(cl)\n",
        "    print ('Точность на обучающей выборке: ',svc_accuracy_train[cl])\n",
        "    print('Точность на тестовой выборке: ', svc_accuracy_test[cl], end='\\n\\n')\n",
        "    '''\n",
        "    mean_train_accuracy['svc'] += svc_accuracy_train[cl]\n",
        "    mean_test_accuracy['svc'] += svc_accuracy_test[cl]\n",
        "mean_train_accuracy['svc'] = mean_train_accuracy['svc']/len(requirement_classes)\n",
        "mean_test_accuracy['svc'] = mean_test_accuracy['svc']/len(requirement_classes)\n",
        "\n",
        "print ('mean train accuracy: ', mean_train_accuracy['svc'])\n",
        "print ('mean test accuracy: ', mean_test_accuracy['svc'])"
      ]
    },
    {
      "cell_type": "code",
      "execution_count": null,
      "id": "b21def33",
      "metadata": {
        "id": "b21def33",
        "outputId": "75159888-f712-440c-b65b-1d13fd0b0a09"
      },
      "outputs": [
        {
          "name": "stdout",
          "output_type": "stream",
          "text": [
            "Случайный лес\n",
            "mean train accuracy:  0.9034656889872716\n",
            "mean test accuracy:  0.9037078029883786\n"
          ]
        }
      ],
      "source": [
        "print('Случайный лес')\n",
        "\n",
        "for cl in requirement_classes:\n",
        "    '''\n",
        "    print(cl)\n",
        "    print ('Точность на обучающей выборке: ',rf_accuracy_train[cl])\n",
        "    print('Точность на тестовой выборке: ', rf_accuracy_test[cl], end='\\n\\n')\n",
        "    '''\n",
        "    mean_train_accuracy['rf'] += rf_accuracy_train[cl]\n",
        "    mean_test_accuracy['rf'] += rf_accuracy_test[cl]\n",
        "mean_train_accuracy['rf'] = mean_train_accuracy['rf']/len(requirement_classes)\n",
        "mean_test_accuracy['rf'] = mean_test_accuracy['rf']/len(requirement_classes)\n",
        "\n",
        "print ('mean train accuracy: ', mean_train_accuracy['rf'])\n",
        "print ('mean test accuracy: ', mean_test_accuracy['rf'])"
      ]
    },
    {
      "cell_type": "markdown",
      "id": "d2205fdc",
      "metadata": {
        "id": "d2205fdc"
      },
      "source": [
        "# Визуализация результатов"
      ]
    },
    {
      "cell_type": "markdown",
      "id": "f2efa515",
      "metadata": {
        "id": "f2efa515"
      },
      "source": [
        "методом линейной регрессии получилась следующая точность классификации для каждого класса:"
      ]
    },
    {
      "cell_type": "code",
      "execution_count": null,
      "id": "d928a6b4",
      "metadata": {
        "scrolled": true,
        "id": "d928a6b4",
        "outputId": "b8b20b3f-9d0a-4d88-9dca-174f0745fe38"
      },
      "outputs": [
        {
          "data": {
            "image/png": "[encoded data removed]",
            "text/plain": [
              "<Figure size 960x480 with 1 Axes>"
            ]
          },
          "metadata": {},
          "output_type": "display_data"
        }
      ],
      "source": [
        "plt.figure(figsize=(12,6))\n",
        "plt.bar(requirement_classes,lr_accuracy_test.values(), width=0.6)\n",
        "plt.title('Точность линейной регрессионной классификации для каждого класса требований')\n",
        "a = plt.xticks(rotation=90)\n",
        "plt.axhline(0.8,c='r',label='0.8')\n",
        "plt.axhline(0.85,c='w',label='0.85')\n",
        "plt.axhline(0.9,c='black',label='0.9')\n",
        "plt.legend()\n",
        "plt.autoscale()\n",
        "plt.xlabel('Requirement class')\n",
        "plt.ylabel('Accuracy score')\n",
        "plt.show()"
      ]
    },
    {
      "cell_type": "code",
      "execution_count": null,
      "id": "bf81b442",
      "metadata": {
        "id": "bf81b442",
        "outputId": "841ec73d-c120-4536-cb82-d3c0ad3f65fa"
      },
      "outputs": [
        {
          "data": {
            "image/png": "[encoded data removed]",
            "text/plain": [
              "<Figure size 960x480 with 1 Axes>"
            ]
          },
          "metadata": {},
          "output_type": "display_data"
        }
      ],
      "source": [
        "plt.style.use('seaborn')\n",
        "\n",
        "plt.figure(figsize=(12,6))\n",
        "plt.bar(classifiers,mean_test_accuracy.values(),width=0.6, color={'red','green','blue','purple', 'grey','darkblue'})\n",
        "plt.title('Methods Accuracy')\n",
        "plt.axhline(0.8,c='r',label='0.8')\n",
        "plt.axhline(0.85,c='w',label='0.85')\n",
        "plt.axhline(0.9,c='black',label='0.9')\n",
        "plt.legend()\n",
        "plt.autoscale()\n",
        "plt.xlabel('Method')\n",
        "plt.ylabel('Accuracy score')\n",
        "plt.show()"
      ]
    },
    {
      "cell_type": "code",
      "execution_count": null,
      "id": "e91aba4a",
      "metadata": {
        "id": "e91aba4a",
        "outputId": "eec637e0-3de3-4a19-d18f-b737ebb444f3"
      },
      "outputs": [
        {
          "name": "stdout",
          "output_type": "stream",
          "text": [
            "method \t train accuracy \t test accuracy \n",
            "\n",
            "lr \t 0.939713613724405 \t 0.93912562257886\n",
            "rf \t 0.9034656889872716 \t 0.9037078029883786\n",
            "knn \t 0.914602933038185 \t 0.9150525733259547\n",
            "dtc \t 0.8889388489208634 \t 0.8911178749308247\n",
            "nb \t 0.8432484781405643 \t 0.8436635307138906\n",
            "svc \t 0.926777808522413 \t 0.9269507470946322\n"
          ]
        }
      ],
      "source": [
        "print ('method', '\\t', 'train accuracy', '\\t', 'test accuracy', '\\n')\n",
        "for i in classifiers:\n",
        "    print (i, '\\t', mean_train_accuracy[i], '\\t', mean_test_accuracy[i])"
      ]
    }
  ],
  "metadata": {
    "kernelspec": {
      "display_name": "Python 3",
      "language": "python",
      "name": "python3"
    },
    "language_info": {
      "codemirror_mode": {
        "name": "ipython",
        "version": 3
      },
      "file_extension": ".py",
      "mimetype": "text/x-python",
      "name": "python",
      "nbconvert_exporter": "python",
      "pygments_lexer": "ipython3",
      "version": "3.8.8"
    },
    "colab": {
      "provenance": [],
      "include_colab_link": true
    }
  },
  "nbformat": 4,
  "nbformat_minor": 5
}